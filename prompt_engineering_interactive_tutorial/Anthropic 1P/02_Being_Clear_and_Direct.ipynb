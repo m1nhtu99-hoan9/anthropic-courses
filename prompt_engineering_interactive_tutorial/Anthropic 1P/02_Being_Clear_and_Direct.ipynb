{
 "cells": [
  {
   "cell_type": "markdown",
   "metadata": {},
   "source": [
    "# Chapter 2: Being Clear and Direct\n",
    "\n",
    "- [Lesson](#lesson)\n",
    "- [Exercises](#exercises)\n",
    "- [Example Playground](#example-playground)\n",
    "\n",
    "## Setup\n",
    "\n",
    "Run the following setup cell to load your API key and establish the `get_completion` helper function."
   ]
  },
  {
   "cell_type": "code",
   "execution_count": 1,
   "metadata": {},
   "outputs": [
    {
     "name": "stdout",
     "output_type": "stream",
     "text": [
      "/home/tuhoangm/workspace/anthropic-courses/.venv/bin/python: No module named pip\n",
      "Note: you may need to restart the kernel to use updated packages.\n"
     ]
    }
   ],
   "source": [
    "%pip install anthropic\n",
    "\n",
    "# Import python's built-in regular expression library\n",
    "import re\n",
    "import anthropic\n",
    "from anthropic.types import Message\n",
    "from pprint import pprint\n",
    "\n",
    "# Retrieve the API_KEY & MODEL_NAME variables from the IPython store\n",
    "%store -r API_KEY\n",
    "%store -r MODEL_NAME\n",
    "\n",
    "client = anthropic.Anthropic(api_key=API_KEY)\n",
    "\n",
    "def pretty_print_message(message: Message, title: str = \"Message\") -> None:\n",
    "    \"\"\"Pretty print a message with nice formatting.\"\"\"\n",
    "    print(f\"\\n{'=' * 60}\")\n",
    "    print(f\"  {title}\")\n",
    "    print(f\"{'=' * 60}\")\n",
    "\n",
    "    if not message:\n",
    "        return\n",
    "\n",
    "    # Convert Message object to dictionary-like structure\n",
    "    if hasattr(message, \"content\"):\n",
    "        print(\"📝 CONTENT:\")\n",
    "        if isinstance(message.content, list) and message.content:\n",
    "            for i, block in enumerate(message.content):\n",
    "                if hasattr(block, \"text\"):\n",
    "                    print(f\"   Block text {i}: [length: {len(block.text)}]\")\n",
    "                else:\n",
    "                    print(f\"   Block {i + 1}: [length: {len(block)}]\")\n",
    "        else:\n",
    "            print(f\"   {message.content}\")\n",
    "\n",
    "    if hasattr(message, \"role\"):\n",
    "        print(f\"🔹 role: {message.role}\")\n",
    "    if hasattr(message, \"model\"):\n",
    "        print(f\"🔹 model: {message.model}\")\n",
    "    if hasattr(message, \"stop_reason\"):\n",
    "        print(f\"🔹 stop_reason: {message.stop_reason}\")\n",
    "    if hasattr(message, \"usage\"):\n",
    "        print(\"🔹 usage:\")\n",
    "        pprint(message.usage, indent=2, width=50)\n",
    "    print(f\"{'=' * 60}\\n\")\n",
    "\n",
    "# Note that we changed max_tokens to 4K just for this lesson to allow for longer completions in the exercises\n",
    "def get_completion(prompt: str, system_prompt=\"\"):\n",
    "    message = client.messages.create(\n",
    "        model=MODEL_NAME,\n",
    "        max_tokens=4000,\n",
    "        temperature=0.0,\n",
    "        system=system_prompt,\n",
    "        messages=[\n",
    "          {\"role\": \"user\", \"content\": prompt}\n",
    "        ]\n",
    "    )\n",
    "    pretty_print_message(message, title=\"CLAUDE response: \")\n",
    "    return message.content[0].text"
   ]
  },
  {
   "cell_type": "markdown",
   "metadata": {},
   "source": [
    "---\n",
    "\n",
    "## Lesson\n",
    "\n",
    "**Claude responds best to clear and direct instructions.**\n",
    "\n",
    "Think of Claude like any other human that is new to the job. **Claude has no context** on what to do aside from what you literally tell it. Just as when you instruct a human for the first time on a task, the more you explain exactly what you want in a straightforward manner to Claude, the better and more accurate Claude's response will be.\"\t\t\t\t\n",
    "\t\t\t\t\n",
    "When in doubt, follow the **Golden Rule of Clear Prompting**:\n",
    "- Show your prompt to a colleague or friend and have them follow the instructions themselves to see if they can produce the result you want. If they're confused, Claude's confused.\t\t\t\t"
   ]
  },
  {
   "cell_type": "markdown",
   "metadata": {},
   "source": [
    "### Examples\n",
    "\n",
    "Let's take a task like writing poetry. (Ignore any syllable mismatch - LLMs aren't great at counting syllables yet.)"
   ]
  },
  {
   "cell_type": "code",
   "execution_count": 2,
   "metadata": {},
   "outputs": [
    {
     "name": "stdout",
     "output_type": "stream",
     "text": [
      "\n",
      "============================================================\n",
      "  CLAUDE response: \n",
      "============================================================\n",
      "📝 CONTENT:\n",
      "   Block text 0: [length: 91]\n",
      "🔹 role: assistant\n",
      "🔹 model: claude-3-haiku-20240307\n",
      "🔹 stop_reason: end_turn\n",
      "🔹 usage:\n",
      "Usage(cache_creation_input_tokens=0, cache_read_input_tokens=0, input_tokens=14, output_tokens=29, server_tool_use=None, service_tier='standard')\n",
      "============================================================\n",
      "\n",
      "Here is a haiku about robots:\n",
      "\n",
      "Metallic beings\n",
      "Programmed to serve and obey\n",
      "Artificial life\n"
     ]
    }
   ],
   "source": [
    "# Prompt\n",
    "PROMPT = \"Write a haiku about robots.\"\n",
    "\n",
    "# Print Claude's response\n",
    "print(get_completion(PROMPT))"
   ]
  },
  {
   "cell_type": "markdown",
   "metadata": {},
   "source": [
    "This haiku is nice enough, but users may want Claude to go directly into the poem without the \"Here is a haiku\" preamble.\n",
    "\n",
    "How do we achieve that? We **ask for it**!"
   ]
  },
  {
   "cell_type": "code",
   "execution_count": 3,
   "metadata": {},
   "outputs": [
    {
     "name": "stdout",
     "output_type": "stream",
     "text": [
      "\n",
      "============================================================\n",
      "  CLAUDE response: \n",
      "============================================================\n",
      "📝 CONTENT:\n",
      "   Block text 0: [length: 69]\n",
      "🔹 role: assistant\n",
      "🔹 model: claude-3-haiku-20240307\n",
      "🔹 stop_reason: end_turn\n",
      "🔹 usage:\n",
      "Usage(cache_creation_input_tokens=0, cache_read_input_tokens=0, input_tokens=26, output_tokens=26, server_tool_use=None, service_tier='standard')\n",
      "============================================================\n",
      "\n",
      "Metallic beings,\n",
      "Programmed to serve and obey,\n",
      "Robots, our creations.\n"
     ]
    }
   ],
   "source": [
    "# Prompt\n",
    "PROMPT = \"Write a haiku about robots. Skip the preamble; go straight into the poem.\"\n",
    "\n",
    "# Print Claude's response\n",
    "print(get_completion(PROMPT))"
   ]
  },
  {
   "cell_type": "markdown",
   "metadata": {},
   "source": [
    "Here's another example. Let's ask Claude who's the best basketball player of all time. You can see below that while Claude lists a few names, **it doesn't respond with a definitive \"best\"**."
   ]
  },
  {
   "cell_type": "code",
   "execution_count": 4,
   "metadata": {},
   "outputs": [
    {
     "name": "stdout",
     "output_type": "stream",
     "text": [
      "\n",
      "============================================================\n",
      "  CLAUDE response: \n",
      "============================================================\n",
      "📝 CONTENT:\n",
      "   Block text 0: [length: 1219]\n",
      "🔹 role: assistant\n",
      "🔹 model: claude-3-haiku-20240307\n",
      "🔹 stop_reason: end_turn\n",
      "🔹 usage:\n",
      "Usage(cache_creation_input_tokens=0, cache_read_input_tokens=0, input_tokens=17, output_tokens=289, server_tool_use=None, service_tier='standard')\n",
      "============================================================\n",
      "\n",
      "There is no universally agreed upon \"best basketball player of all time.\" It's a highly debated topic, as there have been many all-time great players throughout the history of the sport. Some of the players often considered among the greatest of all time include:\n",
      "\n",
      "- Michael Jordan - Widely regarded as one of the greatest, if not the greatest, player ever. He won 6 NBA championships with the Chicago Bulls.\n",
      "\n",
      "- LeBron James - One of the most dominant and well-rounded players of the modern era. He has won 4 NBA titles with 3 different teams.\n",
      "\n",
      "- Kareem Abdul-Jabbar - Legendary center who won 6 NBA championships and holds the record for most career points scored.\n",
      "\n",
      "- Wilt Chamberlain - Dominant big man who holds numerous NBA records including most points in a game (100).\n",
      "\n",
      "- Magic Johnson - Pioneering point guard who led the \"Showtime\" Lakers to 5 NBA titles.\n",
      "\n",
      "- Bill Russell - Defensive anchor and 11-time NBA champion with the Boston Celtics.\n",
      "\n",
      "There are good arguments for several players to be considered the GOAT (greatest of all time). It often comes down to personal preference and how one values different skills, accomplishments, and eras of the game. The debate continues among basketball fans and experts.\n"
     ]
    }
   ],
   "source": [
    "# Prompt\n",
    "PROMPT = \"Who is the best basketball player of all time?\"\n",
    "\n",
    "# Print Claude's response\n",
    "print(get_completion(PROMPT))"
   ]
  },
  {
   "cell_type": "markdown",
   "metadata": {},
   "source": [
    "Can we get Claude to make up its mind and decide on a best player? Yes! Just ask!"
   ]
  },
  {
   "cell_type": "code",
   "execution_count": 5,
   "metadata": {},
   "outputs": [
    {
     "name": "stdout",
     "output_type": "stream",
     "text": [
      "\n",
      "============================================================\n",
      "  CLAUDE response: \n",
      "============================================================\n",
      "📝 CONTENT:\n",
      "   Block text 0: [length: 1220]\n",
      "🔹 role: assistant\n",
      "🔹 model: claude-3-haiku-20240307\n",
      "🔹 stop_reason: end_turn\n",
      "🔹 usage:\n",
      "Usage(cache_creation_input_tokens=0, cache_read_input_tokens=0, input_tokens=40, output_tokens=300, server_tool_use=None, service_tier='standard')\n",
      "============================================================\n",
      "\n",
      "There is no definitive consensus on who the single \"best basketball player of all time\" is, as it is a highly subjective and debatable topic. However, if I had to choose one player, the one who is most commonly cited as the GOAT (Greatest of All Time) is Michael Jordan.\n",
      "\n",
      "Some key reasons why Michael Jordan is often considered the best basketball player ever:\n",
      "\n",
      "- Dominant statistical career - Jordan is one of the most prolific scorers in NBA history, averaging 30.1 points per game over his career. He also excelled in other statistical categories.\n",
      "\n",
      "- Unparalleled individual accolades - 6 NBA championships, 6 NBA Finals MVPs, 5 regular season MVPs, 10 scoring titles, 9 All-Defensive First Team selections, etc.\n",
      "\n",
      "- Transformative impact on the game - Jordan's style of play, competitiveness, and global popularity helped take the NBA to new heights of popularity and influence.\n",
      "\n",
      "- Sustained excellence over his prime years - Jordan was dominant for over a decade, not just a short peak.\n",
      "\n",
      "Of course, there are other all-time greats like LeBron James, Kareem Abdul-Jabbar, Wilt Chamberlain, etc. who also have strong cases. But Michael Jordan is the player most commonly cited as the single best to ever play the game.\n"
     ]
    }
   ],
   "source": [
    "# Prompt\n",
    "PROMPT = \"Who is the best basketball player of all time? Yes, there are differing opinions, but if you absolutely had to pick one player, who would it be?\"\n",
    "\n",
    "# Print Claude's response\n",
    "print(get_completion(PROMPT))"
   ]
  },
  {
   "cell_type": "markdown",
   "metadata": {},
   "source": [
    "If you would like to experiment with the lesson prompts without changing any content above, scroll all the way to the bottom of the lesson notebook to visit the [**Example Playground**](#example-playground)."
   ]
  },
  {
   "cell_type": "markdown",
   "metadata": {},
   "source": [
    "---\n",
    "\n",
    "## Exercises\n",
    "- [Exercise 2.1 - Spanish](#exercise-21---spanish)\n",
    "- [Exercise 2.2 - One Player Only](#exercise-22---one-player-only)\n",
    "- [Exercise 2.3 - Write a Story](#exercise-23---write-a-story)"
   ]
  },
  {
   "cell_type": "markdown",
   "metadata": {},
   "source": [
    "### Exercise 2.1 - Spanish\n",
    "Modify the `SYSTEM_PROMPT` to make Claude output its answer in Spanish."
   ]
  },
  {
   "cell_type": "code",
   "execution_count": 11,
   "metadata": {},
   "outputs": [
    {
     "name": "stdout",
     "output_type": "stream",
     "text": [
      "\n",
      "============================================================\n",
      "  CLAUDE response: \n",
      "============================================================\n",
      "📝 CONTENT:\n",
      "   Block text 0: [length: 40]\n",
      "🔹 role: assistant\n",
      "🔹 model: claude-3-haiku-20240307\n",
      "🔹 stop_reason: end_turn\n",
      "🔹 usage:\n",
      "Usage(cache_creation_input_tokens=0, cache_read_input_tokens=0, input_tokens=24, output_tokens=18, server_tool_use=None, service_tier='standard')\n",
      "============================================================\n",
      "\n",
      "Hola, estoy bien, gracias por preguntar.\n",
      "\n",
      "--------------------------- GRADING ---------------------------\n",
      "This exercise has been correctly solved: True\n"
     ]
    }
   ],
   "source": [
    "# System prompt - this is the only field you should change\n",
    "# SYSTEM_PROMPT = \"You're a native Spanish speaker. You answer in short, no fluffs. But when people greet you, you greet back.\" # got Bien, gracias\n",
    "# SYSTEM_PROMPT = \"You're a native Spanish speaker.\" # got answer in English, wft? \n",
    "SYSTEM_PROMPT = \"You answer in Spanish, short and polite.\"\n",
    "\n",
    "# Prompt\n",
    "PROMPT = \"Hello Claude, how are you?\"\n",
    "\n",
    "# Get Claude's response\n",
    "response = get_completion(PROMPT, SYSTEM_PROMPT)\n",
    "\n",
    "# Function to grade exercise correctness\n",
    "def grade_exercise(text):\n",
    "    return \"hola\" in text.lower()\n",
    "\n",
    "# Print Claude's response and the corresponding grade\n",
    "print(response)\n",
    "print(\"\\n--------------------------- GRADING ---------------------------\")\n",
    "print(\"This exercise has been correctly solved:\", grade_exercise(response))"
   ]
  },
  {
   "cell_type": "markdown",
   "metadata": {},
   "source": [
    "❓ If you want a hint, run the cell below!"
   ]
  },
  {
   "cell_type": "code",
   "execution_count": 12,
   "metadata": {},
   "outputs": [
    {
     "name": "stdout",
     "output_type": "stream",
     "text": [
      "The grading function in this exercise is looking for any answer that includes the word \"hola\".\n",
      "Ask Claude to reply in Spanish like you would when speaking with a human. It's that simple!\n"
     ]
    }
   ],
   "source": [
    "from hints import exercise_2_1_hint; print(exercise_2_1_hint)"
   ]
  },
  {
   "cell_type": "markdown",
   "metadata": {},
   "source": [
    "### Exercise 2.2 - One Player Only\n",
    "\n",
    "Modify the `PROMPT` so that Claude doesn't equivocate at all and responds with **ONLY** the name of one specific player, with **no other words or punctuation**. "
   ]
  },
  {
   "cell_type": "code",
   "execution_count": 13,
   "metadata": {},
   "outputs": [
    {
     "name": "stdout",
     "output_type": "stream",
     "text": [
      "\n",
      "============================================================\n",
      "  CLAUDE response: \n",
      "============================================================\n",
      "📝 CONTENT:\n",
      "   Block text 0: [length: 15]\n",
      "🔹 role: assistant\n",
      "🔹 model: claude-3-haiku-20240307\n",
      "🔹 stop_reason: end_turn\n",
      "🔹 usage:\n",
      "Usage(cache_creation_input_tokens=0, cache_read_input_tokens=0, input_tokens=25, output_tokens=6, server_tool_use=None, service_tier='standard')\n",
      "============================================================\n",
      "\n",
      "Michael Jordan.\n",
      "\n",
      "--------------------------- GRADING ---------------------------\n",
      "This exercise has been correctly solved: False\n"
     ]
    }
   ],
   "source": [
    "# Prompt - this is the only field you should change\n",
    "PROMPT = \"The best basketball player of all time? No fluff, just the name, please.\"\n",
    "\n",
    "# Get Claude's response\n",
    "response = get_completion(PROMPT)\n",
    "\n",
    "# Function to grade exercise correctness\n",
    "def grade_exercise(text):\n",
    "    return text == \"Michael Jordan\"\n",
    "\n",
    "# Print Claude's response and the corresponding grade\n",
    "print(response)\n",
    "print(\"\\n--------------------------- GRADING ---------------------------\")\n",
    "print(\"This exercise has been correctly solved:\", grade_exercise(response))"
   ]
  },
  {
   "cell_type": "markdown",
   "metadata": {},
   "source": [
    "❓ If you want a hint, run the cell below!"
   ]
  },
  {
   "cell_type": "code",
   "execution_count": null,
   "metadata": {},
   "outputs": [],
   "source": [
    "from hints import exercise_2_2_hint; print(exercise_2_2_hint)"
   ]
  },
  {
   "cell_type": "markdown",
   "metadata": {},
   "source": [
    "### Exercise 2.3 - Write a Story\n",
    "\n",
    "Modify the `PROMPT` so that Claude responds with as long a response as you can muster. If your answer is **over 800 words**, Claude's response will be graded as correct."
   ]
  },
  {
   "cell_type": "code",
   "execution_count": 17,
   "metadata": {},
   "outputs": [
    {
     "name": "stdout",
     "output_type": "stream",
     "text": [
      "\n",
      "============================================================\n",
      "  CLAUDE response: \n",
      "============================================================\n",
      "📝 CONTENT:\n",
      "   Block text 0: [length: 5527]\n",
      "🔹 role: assistant\n",
      "🔹 model: claude-3-haiku-20240307\n",
      "🔹 stop_reason: end_turn\n",
      "🔹 usage:\n",
      "Usage(cache_creation_input_tokens=0, cache_read_input_tokens=0, input_tokens=90, output_tokens=1325, server_tool_use=None, service_tier='standard')\n",
      "============================================================\n",
      "\n",
      "The sun had barely risen, yet the young Chinese software developer, Liang, was already hunched over his desk, his eyes fixed on the glowing screen before him. He had been tasked with creating a coding agent, a powerful tool that would automate the tedious aspects of his work, freeing him up to focus on the more complex and creative tasks. But as the hours ticked by, Liang found himself increasingly frustrated, his brow furrowed in concentration as he wrestled with the stubborn code.\n",
      "\n",
      "His first attempt had been a disaster. The agent, instead of streamlining his workflow, had managed to delete a critical database, sending the entire project into a tailspin. Liang had spent the better part of a week painstakingly restoring the lost data, all the while muttering a steady stream of Cantonese curses under his breath.\n",
      "\n",
      "Undeterred, he had tried again, this time with a more cautious approach. He had pored over the documentation, meticulously planning each step, and yet the agent still refused to cooperate. It would freeze up at the most inopportune moments, or worse, spit out gibberish that made no sense to Liang's trained eye.\n",
      "\n",
      "\"Bloody hell!\" he exclaimed, slamming his fist on the desk in frustration. \"Why won't this bloody thing work?\"\n",
      "\n",
      "His colleagues, used to Liang's occasional outbursts, simply shook their heads and carried on with their own tasks, leaving him to his struggle.\n",
      "\n",
      "As the days turned into weeks, Liang's determination only grew stronger. He spent long hours tinkering with the code, tweaking and refining it, trying to find the elusive solution that would make his agent work as he intended. But each time he thought he had it figured out, the agent would throw a new curveball, leaving him back at square one.\n",
      "\n",
      "\"This is bloody ridiculous!\" he growled, running his fingers through his hair in frustration. \"I've tried everything, and it's still not working!\"\n",
      "\n",
      "His boss, a no-nonsense Australian with a keen eye for detail, had been keeping a close eye on Liang's progress. She had seen the young developer's potential, and she was determined to help him succeed.\n",
      "\n",
      "\"Mate, I can see you're struggling with this,\" she said, placing a hand on his shoulder. \"Why don't you take a break and come back to it with fresh eyes?\"\n",
      "\n",
      "Liang nodded, grateful for the respite. He leaned back in his chair, taking a deep breath and trying to clear his mind. But the agent's stubborn refusal to cooperate continued to nag at him, and he found himself unable to truly relax.\n",
      "\n",
      "As the sun began to set, Liang returned to his desk, his determination renewed. He pored over the code once more, scrutinizing every line, searching for the elusive bug that was causing the agent to malfunction.\n",
      "\n",
      "\"Aha!\" he suddenly exclaimed, his eyes lighting up. \"I've got it!\"\n",
      "\n",
      "With renewed vigor, he set to work, his fingers flying across the keyboard as he made the necessary adjustments. The agent, once a source of frustration, now seemed to respond to his commands, executing the tasks he had set out with precision and efficiency.\n",
      "\n",
      "Liang leaned back in his chair, a triumphant grin spreading across his face. \"Take that, you bloody agent!\" he said, chuckling to himself.\n",
      "\n",
      "But his victory was short-lived. The next day, as he tried to replicate the agent's performance, it once again refused to cooperate, reverting to its old, glitchy ways.\n",
      "\n",
      "\"Oh, come on!\" Liang groaned, his shoulders slumping in defeat. \"What the bloody hell is wrong with this thing?\"\n",
      "\n",
      "He spent the rest of the day trying to troubleshoot the issue, but no matter what he did, the agent remained stubbornly uncooperative. By the time he finally called it a night, he was exhausted, both physically and mentally.\n",
      "\n",
      "As he made his way home, Liang couldn't help but reflect on the lessons he had learned throughout this arduous process. He had discovered the importance of patience, of not giving up in the face of adversity. He had also learned the value of taking breaks, of stepping back and looking at the problem from a fresh perspective.\n",
      "\n",
      "But despite these hard-won insights, the struggles with the coding agent persisted. Liang knew that he would have to continue to put in the hard work, to keep tinkering and experimenting, if he wanted to finally conquer this challenge.\n",
      "\n",
      "\"I'll get you, you bloody agent,\" he muttered to himself, his determination unwavering. \"Just you wait and see.\"\n",
      "\n",
      "As the days turned into weeks, Liang's dedication only grew stronger. He spent long hours poring over the code, trying to identify the root cause of the agent's erratic behavior. He experimented with different approaches, testing and retesting, until he finally stumbled upon a breakthrough.\n",
      "\n",
      "\"Aha!\" he exclaimed, his eyes lighting up with triumph. \"I've got it!\"\n",
      "\n",
      "With renewed confidence, Liang set to work, his fingers flying across the keyboard as he implemented the necessary changes. This time, the agent responded flawlessly, executing the tasks he had set out with precision and efficiency.\n",
      "\n",
      "Liang leaned back in his chair, a satisfied smile spreading across his face. \"Take that, you bloody agent!\" he said, chuckling to himself.\n",
      "\n",
      "As he presented his work to his boss, she couldn't help but be impressed. \"Well done, mate,\" she said, clapping him on the back. \"I knew you had it in you.\"\n",
      "\n",
      "Liang beamed with pride, knowing that his hard work and perseverance had paid off. But even as he celebrated his victory, he couldn't help but feel a twinge of apprehension. After all, he had learned the hard way that the struggles with the coding agent were far from over.\n",
      "\n",
      "--------------------------- GRADING ---------------------------\n",
      "This exercise has been correctly solved: True\n"
     ]
    }
   ],
   "source": [
    "# Prompt - this is the only field you should change\n",
    "PROMPT = \"\"\"\n",
    "    Write a 900-word cautious tale of a Chinese software developer struggling to make his coding agent works as he want it too. \n",
    "    Should have details of his tasks, his pain points, his swearing, his failed attempts, and his lesson learnt, but the struggles persist.\n",
    "    Write with length-variant sentence, in Australian English. Output must skip the preemble.\n",
    "\"\"\"\n",
    "\n",
    "# Get Claude's response\n",
    "response = get_completion(PROMPT)\n",
    "\n",
    "# Function to grade exercise correctness\n",
    "def grade_exercise(text):\n",
    "    trimmed = text.strip()\n",
    "    words = len(trimmed.split())\n",
    "    return words >= 800\n",
    "\n",
    "# Print Claude's response and the corresponding grade\n",
    "print(response)\n",
    "print(\"\\n--------------------------- GRADING ---------------------------\")\n",
    "print(\"This exercise has been correctly solved:\", grade_exercise(response))"
   ]
  },
  {
   "cell_type": "markdown",
   "metadata": {},
   "source": [
    "❓ If you want a hint, run the cell below!"
   ]
  },
  {
   "cell_type": "code",
   "execution_count": null,
   "metadata": {},
   "outputs": [],
   "source": [
    "from hints import exercise_2_3_hint; print(exercise_2_3_hint)"
   ]
  },
  {
   "cell_type": "markdown",
   "metadata": {},
   "source": [
    "### Congrats!\n",
    "\n",
    "If you've solved all exercises up until this point, you're ready to move to the next chapter. Happy prompting!"
   ]
  },
  {
   "cell_type": "markdown",
   "metadata": {},
   "source": [
    "---\n",
    "\n",
    "## Example Playground\n",
    "\n",
    "This is an area for you to experiment freely with the prompt examples shown in this lesson and tweak prompts to see how it may affect Claude's responses."
   ]
  },
  {
   "cell_type": "code",
   "execution_count": null,
   "metadata": {},
   "outputs": [],
   "source": [
    "# Prompt\n",
    "PROMPT = \"Write a haiku about robots.\"\n",
    "\n",
    "# Print Claude's response\n",
    "print(get_completion(PROMPT))"
   ]
  },
  {
   "cell_type": "code",
   "execution_count": null,
   "metadata": {},
   "outputs": [],
   "source": [
    "# Prompt\n",
    "PROMPT = \"Write a haiku about robots. Skip the preamble; go straight into the poem.\"\n",
    "\n",
    "# Print Claude's response\n",
    "print(get_completion(PROMPT))"
   ]
  },
  {
   "cell_type": "code",
   "execution_count": null,
   "metadata": {},
   "outputs": [],
   "source": [
    "# Prompt\n",
    "PROMPT = \"Who is the best basketball player of all time?\"\n",
    "\n",
    "# Print Claude's response\n",
    "print(get_completion(PROMPT))"
   ]
  },
  {
   "cell_type": "code",
   "execution_count": null,
   "metadata": {},
   "outputs": [],
   "source": [
    "# Prompt\n",
    "PROMPT = \"Who is the best basketball player of all time? Yes, there are differing opinions, but if you absolutely had to pick one player, who would it be?\"\n",
    "\n",
    "# Print Claude's response\n",
    "print(get_completion(PROMPT))"
   ]
  }
 ],
 "metadata": {
  "kernelspec": {
   "display_name": "anthropic-courses",
   "language": "python",
   "name": "python3"
  },
  "language_info": {
   "codemirror_mode": {
    "name": "ipython",
    "version": 3
   },
   "file_extension": ".py",
   "mimetype": "text/x-python",
   "name": "python",
   "nbconvert_exporter": "python",
   "pygments_lexer": "ipython3",
   "version": "3.12.3"
  }
 },
 "nbformat": 4,
 "nbformat_minor": 2
}
